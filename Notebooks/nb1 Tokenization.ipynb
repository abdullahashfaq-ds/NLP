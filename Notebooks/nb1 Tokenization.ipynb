{
 "cells": [
  {
   "cell_type": "markdown",
   "metadata": {},
   "source": [
    "<h1 style=\"text-align: center;\">Tokenization</h1>"
   ]
  },
  {
   "cell_type": "markdown",
   "metadata": {},
   "source": [
    "### Contents\n",
    "\n",
    "- [Sentence Tokenization](#Sentence-Tokenization)\n",
    "- [Word Tokenization](#Word-Tokenization)\n",
    "- [Word Punctuation Tokenization](#Word-Punctuation-Tokenization)\n",
    "- [Tree Bank Word Tokenization](#Tree-Bank-Word-Tokenization)\n",
    "- [Comparsions](#Comparsions)"
   ]
  },
  {
   "cell_type": "code",
   "execution_count": 1,
   "metadata": {},
   "outputs": [
    {
     "name": "stdout",
     "output_type": "stream",
     "text": [
      "Requirement already satisfied: nltk in e:\\ml engineer\\nlp\\venv\\lib\\site-packages (3.8.1)\n",
      "Requirement already satisfied: click in e:\\ml engineer\\nlp\\venv\\lib\\site-packages (from nltk) (8.1.7)\n",
      "Requirement already satisfied: joblib in e:\\ml engineer\\nlp\\venv\\lib\\site-packages (from nltk) (1.3.2)\n",
      "Requirement already satisfied: regex>=2021.8.3 in e:\\ml engineer\\nlp\\venv\\lib\\site-packages (from nltk) (2023.12.25)\n",
      "Requirement already satisfied: tqdm in e:\\ml engineer\\nlp\\venv\\lib\\site-packages (from nltk) (4.66.2)\n",
      "Requirement already satisfied: colorama in e:\\ml engineer\\nlp\\venv\\lib\\site-packages (from click->nltk) (0.4.6)\n"
     ]
    }
   ],
   "source": [
    "!pip install nltk"
   ]
  },
  {
   "cell_type": "code",
   "execution_count": 2,
   "metadata": {},
   "outputs": [
    {
     "data": {
      "text/plain": [
       "\"All that, we're is the result of what we have thought. The mind is everything. What we think we become.\""
      ]
     },
     "execution_count": 2,
     "metadata": {},
     "output_type": "execute_result"
    }
   ],
   "source": [
    "corpus = \"All that, we're is the result of what we have thought. The mind is everything. What we think we become.\"\n",
    "corpus"
   ]
  },
  {
   "cell_type": "markdown",
   "metadata": {},
   "source": [
    "### Sentence Tokenization"
   ]
  },
  {
   "cell_type": "code",
   "execution_count": 3,
   "metadata": {},
   "outputs": [],
   "source": [
    "from nltk.tokenize import sent_tokenize"
   ]
  },
  {
   "cell_type": "code",
   "execution_count": 4,
   "metadata": {},
   "outputs": [
    {
     "data": {
      "text/plain": [
       "[\"All that, we're is the result of what we have thought.\",\n",
       " 'The mind is everything.',\n",
       " 'What we think we become.']"
      ]
     },
     "execution_count": 4,
     "metadata": {},
     "output_type": "execute_result"
    }
   ],
   "source": [
    "documents = sent_tokenize(corpus)\n",
    "documents"
   ]
  },
  {
   "cell_type": "markdown",
   "metadata": {},
   "source": [
    "### Word Tokenization"
   ]
  },
  {
   "cell_type": "code",
   "execution_count": 5,
   "metadata": {},
   "outputs": [],
   "source": [
    "from nltk.tokenize import word_tokenize"
   ]
  },
  {
   "cell_type": "code",
   "execution_count": 6,
   "metadata": {},
   "outputs": [
    {
     "name": "stdout",
     "output_type": "stream",
     "text": [
      "Sentence: All that, we're is the result of what we have thought.\n",
      "Word Tokenization: ['All', 'that', ',', 'we', \"'re\", 'is', 'the', 'result', 'of', 'what', 'we', 'have', 'thought', '.']\n",
      "\n",
      "Sentence: The mind is everything.\n",
      "Word Tokenization: ['The', 'mind', 'is', 'everything', '.']\n",
      "\n",
      "Sentence: What we think we become.\n",
      "Word Tokenization: ['What', 'we', 'think', 'we', 'become', '.']\n",
      "\n"
     ]
    }
   ],
   "source": [
    "for sentence in documents:\n",
    "    print(f\"Sentence: {sentence}\")\n",
    "    print(f\"Word Tokenization: {word_tokenize(sentence)}\\n\")"
   ]
  },
  {
   "cell_type": "code",
   "execution_count": 7,
   "metadata": {},
   "outputs": [
    {
     "name": "stdout",
     "output_type": "stream",
     "text": [
      "Corpus: All that, we're is the result of what we have thought. The mind is everything. What we think we become.\n",
      "\n",
      "Word Tokenization: ['All', 'that', ',', 'we', \"'re\", 'is', 'the', 'result', 'of', 'what', 'we', 'have', 'thought', '.', 'The', 'mind', 'is', 'everything', '.', 'What', 'we', 'think', 'we', 'become', '.']\n"
     ]
    }
   ],
   "source": [
    "print(f\"Corpus: {corpus}\\n\")\n",
    "print(f\"Word Tokenization: {word_tokenize(corpus)}\")"
   ]
  },
  {
   "cell_type": "markdown",
   "metadata": {},
   "source": [
    "### Word Punctuation Tokenization"
   ]
  },
  {
   "cell_type": "code",
   "execution_count": 8,
   "metadata": {},
   "outputs": [],
   "source": [
    "from nltk.tokenize import wordpunct_tokenize"
   ]
  },
  {
   "cell_type": "code",
   "execution_count": 9,
   "metadata": {},
   "outputs": [
    {
     "name": "stdout",
     "output_type": "stream",
     "text": [
      "Sentence: All that, we're is the result of what we have thought.\n",
      "Word Punctuation Tokenization: ['All', 'that', ',', 'we', \"'\", 're', 'is', 'the', 'result', 'of', 'what', 'we', 'have', 'thought', '.']\n",
      "\n",
      "Sentence: The mind is everything.\n",
      "Word Punctuation Tokenization: ['The', 'mind', 'is', 'everything', '.']\n",
      "\n",
      "Sentence: What we think we become.\n",
      "Word Punctuation Tokenization: ['What', 'we', 'think', 'we', 'become', '.']\n",
      "\n"
     ]
    }
   ],
   "source": [
    "for sentence in documents:\n",
    "    print(f\"Sentence: {sentence}\")\n",
    "    print(f\"Word Punctuation Tokenization: {wordpunct_tokenize(sentence)}\\n\")"
   ]
  },
  {
   "cell_type": "markdown",
   "metadata": {},
   "source": [
    "### Tree Bank Word Tokenization"
   ]
  },
  {
   "cell_type": "code",
   "execution_count": 10,
   "metadata": {},
   "outputs": [],
   "source": [
    "from nltk.tokenize import TreebankWordTokenizer"
   ]
  },
  {
   "cell_type": "code",
   "execution_count": 11,
   "metadata": {},
   "outputs": [],
   "source": [
    "tokenizer = TreebankWordTokenizer()"
   ]
  },
  {
   "cell_type": "code",
   "execution_count": 12,
   "metadata": {},
   "outputs": [
    {
     "name": "stdout",
     "output_type": "stream",
     "text": [
      "Sentence: All that, we're is the result of what we have thought.\n",
      "Tree Bank Word Tokenization: ['All', 'that', ',', 'we', \"'re\", 'is', 'the', 'result', 'of', 'what', 'we', 'have', 'thought', '.']\n",
      "\n",
      "Sentence: The mind is everything.\n",
      "Tree Bank Word Tokenization: ['The', 'mind', 'is', 'everything', '.']\n",
      "\n",
      "Sentence: What we think we become.\n",
      "Tree Bank Word Tokenization: ['What', 'we', 'think', 'we', 'become', '.']\n",
      "\n"
     ]
    }
   ],
   "source": [
    "for sentence in documents:\n",
    "    print(f\"Sentence: {sentence}\")\n",
    "    print(f\"Tree Bank Word Tokenization: {tokenizer.tokenize(sentence)}\\n\")"
   ]
  },
  {
   "cell_type": "markdown",
   "metadata": {},
   "source": [
    "### Comparsions"
   ]
  },
  {
   "cell_type": "code",
   "execution_count": 13,
   "metadata": {},
   "outputs": [
    {
     "name": "stdout",
     "output_type": "stream",
     "text": [
      "Sentence: All that, we're is the result of what we have thought.\n",
      "\n",
      "Word Tokenization:             ['All', 'that', ',', 'we', \"'re\", 'is', 'the', 'result', 'of', 'what', 'we', 'have', 'thought', '.']\n",
      "Tree Bank Word Tokenization:   ['All', 'that', ',', 'we', \"'re\", 'is', 'the', 'result', 'of', 'what', 'we', 'have', 'thought', '.']\n",
      "Word Punctuation Tokenization: ['All', 'that', ',', 'we', \"'\", 're', 'is', 'the', 'result', 'of', 'what', 'we', 'have', 'thought', '.']\n",
      "\n",
      "\n",
      "Sentence: The mind is everything.\n",
      "\n",
      "Word Tokenization:             ['The', 'mind', 'is', 'everything', '.']\n",
      "Tree Bank Word Tokenization:   ['The', 'mind', 'is', 'everything', '.']\n",
      "Word Punctuation Tokenization: ['The', 'mind', 'is', 'everything', '.']\n",
      "\n",
      "\n",
      "Sentence: What we think we become.\n",
      "\n",
      "Word Tokenization:             ['What', 'we', 'think', 'we', 'become', '.']\n",
      "Tree Bank Word Tokenization:   ['What', 'we', 'think', 'we', 'become', '.']\n",
      "Word Punctuation Tokenization: ['What', 'we', 'think', 'we', 'become', '.']\n",
      "\n",
      "\n"
     ]
    }
   ],
   "source": [
    "for sentence in documents:\n",
    "    print(f\"Sentence: {sentence}\\n\")\n",
    "    print(f\"Word Tokenization:             {word_tokenize(sentence)}\")\n",
    "    print(f\"Tree Bank Word Tokenization:   {tokenizer.tokenize(sentence)}\")\n",
    "    print(f\"Word Punctuation Tokenization: {wordpunct_tokenize(sentence)}\\n\\n\")"
   ]
  },
  {
   "cell_type": "code",
   "execution_count": null,
   "metadata": {},
   "outputs": [],
   "source": []
  }
 ],
 "metadata": {
  "kernelspec": {
   "display_name": "Python 3 (ipykernel)",
   "language": "python",
   "name": "python3"
  },
  "language_info": {
   "codemirror_mode": {
    "name": "ipython",
    "version": 3
   },
   "file_extension": ".py",
   "mimetype": "text/x-python",
   "name": "python",
   "nbconvert_exporter": "python",
   "pygments_lexer": "ipython3",
   "version": "3.11.1"
  }
 },
 "nbformat": 4,
 "nbformat_minor": 4
}
