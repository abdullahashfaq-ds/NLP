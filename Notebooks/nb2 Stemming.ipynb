{
 "cells": [
  {
   "cell_type": "markdown",
   "id": "46029267-bc04-4287-b911-aa624a43dba7",
   "metadata": {},
   "source": [
    "<h1 style=\"text-align: center;\">Stemming</h1>"
   ]
  },
  {
   "cell_type": "markdown",
   "id": "f17f9bfb-557e-40e0-af29-b113da8a2428",
   "metadata": {},
   "source": [
    "Stemming is the process of reducing a word to its word stem that affixes to suffixes and prefixes or to the roots of words known as a lemma.      \n",
    "Stemming is important in natural language understanding (NLU) and natural language processing (NLP).\n",
    "\n",
    "- [Porter Stemmer](#Porter-Stemmer)\n",
    "- [Regexp Stemmer](#Regexp-Stemmer)\n",
    "- [Snowball Stemmer](#Snowball-Stemmer)"
   ]
  },
  {
   "cell_type": "markdown",
   "id": "306dd9c7-c2f6-45e1-80a7-d5d2c597ebf6",
   "metadata": {},
   "source": [
    "### Porter Stemmer"
   ]
  },
  {
   "cell_type": "code",
   "execution_count": 1,
   "id": "142892fe-d6f3-4a75-b308-e160fdd804a0",
   "metadata": {},
   "outputs": [],
   "source": [
    "from nltk.stem import PorterStemmer"
   ]
  },
  {
   "cell_type": "code",
   "execution_count": 2,
   "id": "3e14a698-75b4-4b80-a701-be4a103344d1",
   "metadata": {},
   "outputs": [],
   "source": [
    "porter = PorterStemmer()"
   ]
  },
  {
   "cell_type": "code",
   "execution_count": 3,
   "id": "ff8ff365-e564-410a-8229-7449f8d6a24d",
   "metadata": {},
   "outputs": [],
   "source": [
    "words = [\n",
    "    \"eating\", \"eats\", \"eaten\", \"writing\", \"writes\", \"programming\", \"programs\", \"finally\", \"finalized\",\n",
    "    \"sitting\", \"goes\", \"history\", \"congratulations\", \"fairly\", \"sportingly\"\n",
    "]"
   ]
  },
  {
   "cell_type": "code",
   "execution_count": 4,
   "id": "1180b381-d234-457e-a2b0-5b719a0d0aa1",
   "metadata": {},
   "outputs": [
    {
     "name": "stdout",
     "output_type": "stream",
     "text": [
      "eating          ----> eat\n",
      "eats            ----> eat\n",
      "eaten           ----> eaten\n",
      "writing         ----> write\n",
      "writes          ----> write\n",
      "programming     ----> program\n",
      "programs        ----> program\n",
      "finally         ----> final\n",
      "finalized       ----> final\n",
      "sitting         ----> sit\n",
      "goes            ----> goe\n",
      "history         ----> histori\n",
      "congratulations ----> congratul\n",
      "fairly          ----> fairli\n",
      "sportingly      ----> sportingli\n"
     ]
    }
   ],
   "source": [
    "for word in words:\n",
    "    print(f\"{word:<15} ----> {porter.stem(word)}\")"
   ]
  },
  {
   "cell_type": "markdown",
   "id": "d009de07-9d10-48fa-b144-050800837afc",
   "metadata": {},
   "source": [
    "### Regexp Stemmer"
   ]
  },
  {
   "cell_type": "code",
   "execution_count": 5,
   "id": "33f78d0c-6e49-44d1-90ef-2a7e276864a7",
   "metadata": {},
   "outputs": [],
   "source": [
    "from nltk.stem import RegexpStemmer"
   ]
  },
  {
   "cell_type": "code",
   "execution_count": 6,
   "id": "a051cee0-37d3-40ce-9eed-7d54a5ff9116",
   "metadata": {},
   "outputs": [],
   "source": [
    "regexp = RegexpStemmer('ing$|s$|en$|able$', min=4)"
   ]
  },
  {
   "cell_type": "code",
   "execution_count": 7,
   "id": "795c1825-c213-41b0-9a23-c0c4d9d0e9ea",
   "metadata": {},
   "outputs": [
    {
     "name": "stdout",
     "output_type": "stream",
     "text": [
      "eating          ----> eat\n",
      "eats            ----> eat\n",
      "eaten           ----> eat\n"
     ]
    }
   ],
   "source": [
    "for word in words[:3]:\n",
    "    print(f\"{word:<15} ----> {regexp.stem(word)}\")"
   ]
  },
  {
   "cell_type": "markdown",
   "id": "9efa9d7e-7e46-4a67-8c2f-1dcfe5001db0",
   "metadata": {},
   "source": [
    "### Snowball Stemmer"
   ]
  },
  {
   "cell_type": "code",
   "execution_count": 8,
   "id": "f13743ad-38db-4522-8c1d-169596f8938a",
   "metadata": {},
   "outputs": [],
   "source": [
    "from nltk.stem import SnowballStemmer"
   ]
  },
  {
   "cell_type": "code",
   "execution_count": 9,
   "id": "f3acb40a-fa8c-47ed-93c0-ed24cbf289c2",
   "metadata": {},
   "outputs": [],
   "source": [
    "snowball = SnowballStemmer('english')"
   ]
  },
  {
   "cell_type": "code",
   "execution_count": 10,
   "id": "8e911ae0-6865-42a7-9e7c-c84e1a034e53",
   "metadata": {},
   "outputs": [
    {
     "name": "stdout",
     "output_type": "stream",
     "text": [
      "eating          ----> eat\n",
      "eats            ----> eat\n",
      "eaten           ----> eaten\n",
      "writing         ----> write\n",
      "writes          ----> write\n",
      "programming     ----> program\n",
      "programs        ----> program\n",
      "finally         ----> final\n",
      "finalized       ----> final\n",
      "sitting         ----> sit\n",
      "goes            ----> goe\n",
      "history         ----> histori\n",
      "congratulations ----> congratul\n",
      "fairly          ----> fair\n",
      "sportingly      ----> sport\n"
     ]
    }
   ],
   "source": [
    "for word in words:\n",
    "    print(f\"{word:<15} ----> {snowball.stem(word)}\")"
   ]
  },
  {
   "cell_type": "code",
   "execution_count": null,
   "id": "cf5f83b1-5a12-49cf-b585-127281f530ff",
   "metadata": {},
   "outputs": [],
   "source": []
  }
 ],
 "metadata": {
  "kernelspec": {
   "display_name": "Python 3 (ipykernel)",
   "language": "python",
   "name": "python3"
  },
  "language_info": {
   "codemirror_mode": {
    "name": "ipython",
    "version": 3
   },
   "file_extension": ".py",
   "mimetype": "text/x-python",
   "name": "python",
   "nbconvert_exporter": "python",
   "pygments_lexer": "ipython3",
   "version": "3.11.1"
  }
 },
 "nbformat": 4,
 "nbformat_minor": 5
}
