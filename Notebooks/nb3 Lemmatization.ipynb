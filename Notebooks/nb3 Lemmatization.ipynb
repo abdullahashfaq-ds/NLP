{
 "cells": [
  {
   "cell_type": "markdown",
   "id": "da6944f9-a6c5-442e-aed2-da867ce08b4c",
   "metadata": {},
   "source": [
    "<h1 style=\"text-align: center;\">Lemmatization</h1>"
   ]
  },
  {
   "cell_type": "markdown",
   "id": "c8d568d5-9b26-4a75-bcc3-fd39c86f5e4b",
   "metadata": {},
   "source": [
    "Lemmatization is a technique similar to stemming. The output obtained from lemmatization is called a 'lemma,' which represents a root word rather than a root stem, the output of stemming."
   ]
  },
  {
   "cell_type": "markdown",
   "id": "e2465312-dda9-43af-ad82-c3cc945c4322",
   "metadata": {},
   "source": [
    "**Part of Speech (POS)**\n",
    "\n",
    "- Noun-n\n",
    "- Verb-v\n",
    "- Adjective-a\n",
    "- Adverb-r"
   ]
  },
  {
   "cell_type": "code",
   "execution_count": 1,
   "id": "845b1773-775f-453f-a8bd-856b75d2b398",
   "metadata": {},
   "outputs": [],
   "source": [
    "from nltk.stem import WordNetLemmatizer"
   ]
  },
  {
   "cell_type": "code",
   "execution_count": 2,
   "id": "5864e7db-0903-4bc8-b081-83c382f9aec3",
   "metadata": {},
   "outputs": [],
   "source": [
    "wordnet = WordNetLemmatizer()"
   ]
  },
  {
   "cell_type": "code",
   "execution_count": 3,
   "id": "6a99a090-9aa6-4b46-8e2a-5c848dd96334",
   "metadata": {},
   "outputs": [],
   "source": [
    "words = [\n",
    "    \"eating\", \"eats\", \"eaten\", \"writing\", \"writes\", \"programming\", \"programs\", \"finally\", \"finalized\",\n",
    "    \"sitting\", \"goes\", \"history\", \"congratulations\", \"fairly\", \"sportingly\"\n",
    "]"
   ]
  },
  {
   "cell_type": "code",
   "execution_count": 4,
   "id": "0844115a-30d6-4ab0-ac3f-1c1b42b575cb",
   "metadata": {},
   "outputs": [
    {
     "name": "stdout",
     "output_type": "stream",
     "text": [
      "eating          ----> eat\n",
      "eats            ----> eat\n",
      "eaten           ----> eat\n",
      "writing         ----> write\n",
      "writes          ----> write\n",
      "programming     ----> program\n",
      "programs        ----> program\n",
      "finally         ----> finally\n",
      "finalized       ----> finalize\n",
      "sitting         ----> sit\n",
      "goes            ----> go\n",
      "history         ----> history\n",
      "congratulations ----> congratulations\n",
      "fairly          ----> fairly\n",
      "sportingly      ----> sportingly\n"
     ]
    }
   ],
   "source": [
    "for word in words:\n",
    "    print(f\"{word:<15} ----> {wordnet.lemmatize(word, pos='v')}\")"
   ]
  },
  {
   "cell_type": "code",
   "execution_count": null,
   "id": "f614ad24-2615-4769-aa14-0bf5f9599cf3",
   "metadata": {},
   "outputs": [],
   "source": []
  }
 ],
 "metadata": {
  "kernelspec": {
   "display_name": "Python 3 (ipykernel)",
   "language": "python",
   "name": "python3"
  },
  "language_info": {
   "codemirror_mode": {
    "name": "ipython",
    "version": 3
   },
   "file_extension": ".py",
   "mimetype": "text/x-python",
   "name": "python",
   "nbconvert_exporter": "python",
   "pygments_lexer": "ipython3",
   "version": "3.11.1"
  }
 },
 "nbformat": 4,
 "nbformat_minor": 5
}
