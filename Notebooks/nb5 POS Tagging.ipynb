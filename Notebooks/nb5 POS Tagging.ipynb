{
 "cells": [
  {
   "cell_type": "markdown",
   "metadata": {},
   "source": [
    "<h1 style=\"text-align: center;\">Parts Of Speech Tags</h1>"
   ]
  },
  {
   "cell_type": "markdown",
   "metadata": {},
   "source": [
    "<img src=\"https://m-clark.github.io/text-analysis-with-R/img/POS-Tags.png\" alt=\"POS Tags\">"
   ]
  },
  {
   "cell_type": "code",
   "execution_count": 1,
   "metadata": {},
   "outputs": [],
   "source": [
    "import nltk\n",
    "from nltk.corpus import stopwords"
   ]
  },
  {
   "cell_type": "code",
   "execution_count": 2,
   "metadata": {},
   "outputs": [
    {
     "name": "stderr",
     "output_type": "stream",
     "text": [
      "[nltk_data] Downloading package averaged_perceptron_tagger to\n",
      "[nltk_data]     C:\\Users\\Track Computers\\AppData\\Roaming\\nltk_data...\n",
      "[nltk_data]   Package averaged_perceptron_tagger is already up-to-\n",
      "[nltk_data]       date!\n"
     ]
    },
    {
     "data": {
      "text/plain": [
       "True"
      ]
     },
     "execution_count": 2,
     "metadata": {},
     "output_type": "execute_result"
    }
   ],
   "source": [
    "nltk.download('averaged_perceptron_tagger')"
   ]
  },
  {
   "cell_type": "code",
   "execution_count": 3,
   "metadata": {},
   "outputs": [],
   "source": [
    "paragraph = \"\"\"\n",
    "    Your time is limited, so don’t waste it living someone else’s life. \n",
    "    Don’t be trapped by dogma — which is living with the results of other people’s thinking. \n",
    "    Don’t let the noise of others’ opinions drown out your own inner voice. \n",
    "    And most important, have the courage to follow your heart and intuition. \n",
    "    They somehow already know what you truly want to become. \n",
    "    Everything else is secondary...Stay Hungry. Stay Foolish.\n",
    "\"\"\""
   ]
  },
  {
   "cell_type": "code",
   "execution_count": 4,
   "metadata": {},
   "outputs": [
    {
     "data": {
      "text/plain": [
       "['\\n    Your time is limited, so don’t waste it living someone else’s life.',\n",
       " 'Don’t be trapped by dogma — which is living with the results of other people’s thinking.',\n",
       " 'Don’t let the noise of others’ opinions drown out your own inner voice.',\n",
       " 'And most important, have the courage to follow your heart and intuition.',\n",
       " 'They somehow already know what you truly want to become.',\n",
       " 'Everything else is secondary...Stay Hungry.',\n",
       " 'Stay Foolish.']"
      ]
     },
     "execution_count": 4,
     "metadata": {},
     "output_type": "execute_result"
    }
   ],
   "source": [
    "sentences = nltk.sent_tokenize(paragraph)\n",
    "sentences"
   ]
  },
  {
   "cell_type": "code",
   "execution_count": 5,
   "metadata": {},
   "outputs": [
    {
     "name": "stdout",
     "output_type": "stream",
     "text": [
      "[('Your', 'PRP$'), ('time', 'NN'), ('limited', 'JJ'), (',', ','), ('’', 'JJ'), ('waste', 'NN'), ('living', 'VBG'), ('someone', 'NN'), ('else', 'RB'), ('’', 'JJ'), ('life', 'NN'), ('.', '.')]\n",
      "[('Don', 'NNP'), ('’', 'NNP'), ('trapped', 'VBD'), ('dogma', 'NN'), ('—', 'NN'), ('living', 'VBG'), ('results', 'NNS'), ('people', 'NNS'), ('’', 'VBP'), ('thinking', 'VBG'), ('.', '.')]\n",
      "[('Don', 'NNP'), ('’', 'NNP'), ('let', 'VBD'), ('noise', 'JJ'), ('others', 'NNS'), ('’', 'VBP'), ('opinions', 'NNS'), ('drown', 'JJ'), ('inner', 'JJ'), ('voice', 'NN'), ('.', '.')]\n",
      "[('And', 'CC'), ('important', 'JJ'), (',', ','), ('courage', 'NN'), ('follow', 'JJ'), ('heart', 'NN'), ('intuition', 'NN'), ('.', '.')]\n",
      "[('They', 'PRP'), ('somehow', 'VBP'), ('already', 'RB'), ('know', 'VBP'), ('truly', 'RB'), ('want', 'JJ'), ('become', 'NN'), ('.', '.')]\n",
      "[('Everything', 'NN'), ('else', 'RB'), ('secondary', 'JJ'), ('...', ':'), ('Stay', 'NNP'), ('Hungry', 'NNP'), ('.', '.')]\n",
      "[('Stay', 'NNP'), ('Foolish', 'NNP'), ('.', '.')]\n"
     ]
    }
   ],
   "source": [
    "for i in range(len(sentences)):\n",
    "    words = nltk.word_tokenize(sentences[i])\n",
    "    words = [word for word in words if word not in set(stopwords.words('english'))]\n",
    "    pos_tag = nltk.pos_tag(words)\n",
    "    print(pos_tag)"
   ]
  },
  {
   "cell_type": "code",
   "execution_count": 6,
   "metadata": {},
   "outputs": [
    {
     "data": {
      "text/plain": [
       "[('Our', 'PRP$'),\n",
       " ('time', 'NN'),\n",
       " ('is', 'VBZ'),\n",
       " ('finite,', 'JJ'),\n",
       " ('but', 'CC'),\n",
       " ('we', 'PRP'),\n",
       " ('often', 'RB'),\n",
       " ('fail', 'VBP'),\n",
       " ('to', 'TO'),\n",
       " ('recognize', 'VB'),\n",
       " ('it', 'PRP'),\n",
       " ('until', 'IN'),\n",
       " (\"it's\", 'VB'),\n",
       " ('too', 'RB'),\n",
       " ('late.', 'JJ')]"
      ]
     },
     "execution_count": 6,
     "metadata": {},
     "output_type": "execute_result"
    }
   ],
   "source": [
    "sentence = \"Our time is finite, but we often fail to recognize it until it's too late.\".split()\n",
    "nltk.pos_tag(sentence)"
   ]
  },
  {
   "cell_type": "code",
   "execution_count": null,
   "metadata": {},
   "outputs": [],
   "source": []
  }
 ],
 "metadata": {
  "kernelspec": {
   "display_name": "Python 3 (ipykernel)",
   "language": "python",
   "name": "python3"
  },
  "language_info": {
   "codemirror_mode": {
    "name": "ipython",
    "version": 3
   },
   "file_extension": ".py",
   "mimetype": "text/x-python",
   "name": "python",
   "nbconvert_exporter": "python",
   "pygments_lexer": "ipython3",
   "version": "3.11.1"
  }
 },
 "nbformat": 4,
 "nbformat_minor": 4
}
